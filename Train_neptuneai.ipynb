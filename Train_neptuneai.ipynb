{
 "cells": [
  {
   "cell_type": "code",
   "execution_count": 1,
   "id": "fceaac18",
   "metadata": {},
   "outputs": [],
   "source": [
    "import warnings\n",
    "warnings.filterwarnings('ignore')\n",
    "import os\n",
    "import monai\n",
    "import torch\n",
    "import numpy as np\n",
    "import pandas as pd\n",
    "import tqdm as tqdm\n",
    "from monai.data import decollate_batch\n",
    "from torch.utils.data import DataLoader\n",
    "from monai.metrics import ROCAUCMetric\n",
    "from monai.utils import set_determinism\n",
    "import matplotlib.pyplot as plt\n",
    "import PIL\n",
    "from monai.transforms import LoadImage, Resize, NormalizeIntensity,RandRotate,RandFlip,RandZoom,Compose,Activations, AsDiscrete,EnsureChannelFirst\n",
    "from monai.networks.nets import DenseNet121\n",
    "import torchvision.transforms as transforms\n",
    "import pydicom\n",
    "from sklearn.metrics import confusion_matrix,roc_auc_score,classification_report\n",
    "import seaborn as sns\n",
    "from sklearn.model_selection import train_test_split\n"
   ]
  },
  {
   "cell_type": "code",
   "execution_count": 2,
   "id": "d6ecd4fa",
   "metadata": {},
   "outputs": [],
   "source": [
    "import neptune\n",
    "from neptune.types import File\n",
    "from neptune.utils import stringify_unsupported"
   ]
  },
  {
   "cell_type": "code",
   "execution_count": 3,
   "id": "77323182",
   "metadata": {},
   "outputs": [],
   "source": [
    "# classe che uso come DatasetLoader\n",
    "class BrainClassificationDataset(torch.utils.data.Dataset):\n",
    "    def __init__(self, image_files, labels, transforms):\n",
    "        self.image_files = image_files\n",
    "        self.labels = labels\n",
    "        self.transforms = transforms\n",
    "\n",
    "    def __len__(self):\n",
    "        return len(self.image_files)\n",
    "\n",
    "    def __getitem__(self, index):\n",
    "        return self.transforms(self.image_files[index]), self.labels[index]\n"
   ]
  },
  {
   "cell_type": "markdown",
   "id": "ab3f27da",
   "metadata": {},
   "source": [
    "Inizio con inizializzare Neptune e creare una nuova instanza di Neptune run"
   ]
  },
  {
   "cell_type": "code",
   "execution_count": 4,
   "id": "1bbc5710",
   "metadata": {},
   "outputs": [
    {
     "name": "stdout",
     "output_type": "stream",
     "text": [
      "https://app.neptune.ai/marioverd/brain-classification/e/BRAIN-5\n"
     ]
    }
   ],
   "source": [
    "run = neptune.init_run(project='marioverd/brain-classification',\n",
    "                       api_token=\"eyJhcGlfYWRkcmVzcyI6Imh0dHBzOi8vYXBwLm5lcHR1bmUuYWkiLCJhcGlfdXJsIjoiaHR0cHM6Ly9hcHAubmVwdHVuZS5haSIsImFwaV9rZXkiOiI5MjRhMWVmZC0xMzhiLTQ4YzAtYjE4ZS0zNTlkOGJjOTkzNWEifQ==\" )"
   ]
  },
  {
   "cell_type": "markdown",
   "id": "47ed6683",
   "metadata": {},
   "source": [
    "### Log Hyperparameters"
   ]
  },
  {
   "cell_type": "code",
   "execution_count": 5,
   "id": "06abdcd4",
   "metadata": {},
   "outputs": [],
   "source": [
    "parameters = {\n",
    "    \"lr\": 1e-5,\n",
    "    \"bs\" : 20 ,\n",
    "    \"n_classes\": 2,\n",
    "    \"model_filename\": \"densenet\",\n",
    "    \"spatial_dimension\": 2,\n",
    "    \"in_channels\" : 1,\n",
    "    \"device\": torch.device(\"cuda:0\" if torch.cuda.is_available() else \"cpu\"),\n",
    "}"
   ]
  },
  {
   "cell_type": "code",
   "execution_count": 6,
   "id": "4f923fcc",
   "metadata": {},
   "outputs": [],
   "source": [
    "from neptune.utils import stringify_unsupported\n",
    "\n",
    "run[\"config/hyperparameters\"] = stringify_unsupported(parameters)"
   ]
  },
  {
   "cell_type": "markdown",
   "id": "4decd019",
   "metadata": {},
   "source": [
    "### Log Config"
   ]
  },
  {
   "cell_type": "markdown",
   "id": "93167bff",
   "metadata": {},
   "source": [
    "Model and Dataset"
   ]
  },
  {
   "cell_type": "code",
   "execution_count": 7,
   "id": "b90f23e6",
   "metadata": {},
   "outputs": [],
   "source": [
    "model = DenseNet121(spatial_dims=parameters[\"spatial_dimension\"], in_channels=parameters[\"in_channels\"], out_channels=parameters[\"n_classes\"]).to(parameters[\"device\"])\n",
    "criterion = torch.nn.CrossEntropyLoss()\n",
    "optimizer = torch.optim.Adam(model.parameters(), lr=parameters[\"lr\"])"
   ]
  },
  {
   "cell_type": "code",
   "execution_count": 11,
   "id": "751467a2",
   "metadata": {},
   "outputs": [],
   "source": [
    "run[\"config/model\"] = type(model).__name__\n",
    "run[\"config/criterion\"] = type(criterion).__name__\n",
    "run[\"config/optimizer\"] = type(optimizer).__name__"
   ]
  },
  {
   "cell_type": "code",
   "execution_count": 8,
   "id": "3708ca41",
   "metadata": {},
   "outputs": [],
   "source": [
    "data_dir = \"./dataset/dcm/\"\n",
    "data_tfms = {\n",
    "    \"train\": transforms.Compose(\n",
    "        [\n",
    "        LoadImage(image_only=True,ensure_channel_first= True),\n",
    "        Resize((256,256)),\n",
    "        NormalizeIntensity(),\n",
    "        RandRotate(range_x=np.pi / 12, prob=0.5, keep_size=True),\n",
    "        RandFlip(spatial_axis=0, prob=0.5),\n",
    "        RandZoom(min_zoom=0.9, max_zoom=1.1, prob=0.5),\n",
    "     ]\n",
    "    ),\n",
    "    \"val\": transforms.Compose(\n",
    "        [\n",
    "            LoadImage(image_only=True),\n",
    "            EnsureChannelFirst() ,\n",
    "            NormalizeIntensity(),\n",
    "            Resize((256,256))\n",
    "        ]\n",
    "    ),\n",
    "}"
   ]
  },
  {
   "cell_type": "code",
   "execution_count": 10,
   "id": "b628ce4e",
   "metadata": {},
   "outputs": [],
   "source": [
    "set_determinism(seed = 1234)\n",
    "class_names = [\"false\",\"true\"]   #dove true sono brain e false no brain \n",
    "num_class = len(class_names)\n",
    "image_files = [\n",
    "    [os.path.join(data_dir,class_names[i],x) for x in os.listdir(os.path.join(data_dir,class_names[i])) if x.endswith(\"dcm\")] \n",
    "    for i in range(len(class_names))\n",
    "    ]   #lista di liste, 0 contiene tutti i file labellati con no-brain.1 i brain\n",
    "\n",
    "X = []\n",
    "Y = []\n",
    "\n",
    "\n",
    "for i in range(len(class_names)) :\n",
    "    X.extend(image_files[i])\n",
    "    Y.extend([i]*len(image_files[i]))\n",
    "\n",
    "\n",
    "image_dictionary = {\n",
    "                        \"image\" : X,\n",
    "                        \"label\" : Y\n",
    "}\n"
   ]
  },
  {
   "cell_type": "code",
   "execution_count": 11,
   "id": "3a8bbe3a",
   "metadata": {},
   "outputs": [
    {
     "name": "stdout",
     "output_type": "stream",
     "text": [
      "Training count : 73 , Validation count : 19 ,  Test count : 24 \n"
     ]
    }
   ],
   "source": [
    "train_x, test_x, train_y, test_y  = train_test_split(X, Y, test_size=0.2, stratify=Y, random_state=42)\n",
    "train_x, val_x, train_y, val_y  = train_test_split(train_x, train_y, test_size=0.2, stratify=train_y , random_state=42)\n",
    "print(\"Training count : {} , Validation count : {} ,  Test count : {} \".format(len(train_x), len(val_x), len(test_x)))"
   ]
  },
  {
   "cell_type": "code",
   "execution_count": 12,
   "id": "9acf8fbf",
   "metadata": {},
   "outputs": [],
   "source": [
    "train_ds = BrainClassificationDataset(train_x, train_y, data_tfms[\"train\"])\n",
    "train_loader = DataLoader(train_ds, batch_size=20, shuffle=True,num_workers=5)\n",
    "\n",
    "val_ds = BrainClassificationDataset(val_x, val_y, data_tfms[\"val\"])\n",
    "val_loader = DataLoader(val_ds, batch_size=20,num_workers=5)\n",
    "\n",
    "test_ds = BrainClassificationDataset(test_x, test_y, data_tfms[\"val\"])\n",
    "test_loader = DataLoader(test_ds, batch_size=20,num_workers=5)\n",
    "dataset_size = {\"train\": len(train_ds), \"val\": len(val_ds)}"
   ]
  },
  {
   "cell_type": "code",
   "execution_count": 13,
   "id": "f2122810",
   "metadata": {},
   "outputs": [],
   "source": [
    "run[\"config/dataset/path\"] = data_dir\n",
    "run[\"config/dataset/transforms\"] = stringify_unsupported(data_tfms)\n",
    "run[\"config/dataset/size\"] = dataset_size"
   ]
  },
  {
   "cell_type": "markdown",
   "id": "2c90cee9",
   "metadata": {},
   "source": [
    "### Train Loop"
   ]
  },
  {
   "cell_type": "code",
   "execution_count": 14,
   "id": "9721bd92",
   "metadata": {},
   "outputs": [
    {
     "name": "stdout",
     "output_type": "stream",
     "text": [
      "2023-03-06 14:53:57,345 - Error while processing tag 0051100E\n"
     ]
    }
   ],
   "source": [
    "for i, (x, y) in enumerate(train_loader, 0):\n",
    "    x, y = x.to(parameters[\"device\"]), y.to(parameters[\"device\"])\n",
    "    optimizer.zero_grad()\n",
    "    outputs = model.forward(x)\n",
    "    _, preds = torch.max(outputs, 1)\n",
    "    loss = criterion(outputs, y)\n",
    "    acc = (torch.sum(preds == y.data)) / len(x)\n",
    "\n",
    "    run[\"training/batch/loss\"].append(loss)\n",
    "\n",
    "    run[\"training/batch/acc\"].append(acc)\n",
    "\n",
    "    loss.backward()\n",
    "    optimizer.step()"
   ]
  },
  {
   "cell_type": "code",
   "execution_count": 16,
   "id": "b809ebaa",
   "metadata": {},
   "outputs": [
    {
     "name": "stdout",
     "output_type": "stream",
     "text": [
      "Shutting down background jobs, please wait a moment...\n",
      "Done!\n",
      "All 0 operations synced, thanks for waiting!\n",
      "Explore the metadata in the Neptune app:\n",
      "https://app.neptune.ai/marioverd/brain-classification/e/BRAIN-5/metadata\n"
     ]
    }
   ],
   "source": [
    "run.stop()"
   ]
  }
 ],
 "metadata": {
  "kernelspec": {
   "display_name": "Python 3 (ipykernel)",
   "language": "python",
   "name": "python3"
  },
  "language_info": {
   "codemirror_mode": {
    "name": "ipython",
    "version": 3
   },
   "file_extension": ".py",
   "mimetype": "text/x-python",
   "name": "python",
   "nbconvert_exporter": "python",
   "pygments_lexer": "ipython3",
   "version": "3.8.10"
  }
 },
 "nbformat": 4,
 "nbformat_minor": 5
}
