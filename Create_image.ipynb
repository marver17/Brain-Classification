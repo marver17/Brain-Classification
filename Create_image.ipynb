{
 "cells": [
  {
   "cell_type": "code",
   "execution_count": 6,
   "id": "530d3edb",
   "metadata": {
    "tags": []
   },
   "outputs": [],
   "source": [
    "import pydicom\n",
    "import os \n",
    "import numpy as np\n",
    "import pandas as pd\n",
    "import cv2 \n",
    "from tqdm import tqdm\n",
    "from PIL import Image\n",
    "import matplotlib.pyplot as plt\n",
    "import shutil"
   ]
  },
  {
   "cell_type": "markdown",
   "id": "c44c05c1-f482-4d6c-995e-bf7dc24bde14",
   "metadata": {},
   "source": [
    "Vado a costruire le liste dei path partendo dai CSV"
   ]
  },
  {
   "cell_type": "code",
   "execution_count": 7,
   "id": "880abab0-2d99-4e23-9bc5-b0a3ad19f041",
   "metadata": {
    "tags": []
   },
   "outputs": [],
   "source": [
    "#ds = pd.read_csv(\"./pre_retrieve_100_accnum.csv\")\n",
    "#ds = pd.read_csv(\"/mnt/databaseRICERCA_SDN/ONWAY/PACS/metadata/nonbrain_151_accnum.csv\",sep = \";\")\n",
    "ds = pd.read_csv(\"/mnt/databaseRICERCA_SDN/ONWAY/PACS/metadata/pre_retrieve_100_accnum.csv\", sep =\";\")\n",
    "true = ds.loc[ds[\"is_brain_manual\"] == True]\n",
    "false =ds.loc[ds[\"is_brain_manual\"] == False].dropna()\n",
    "true_path = [os.path.dirname(x) for x in list(true[\"dicom_images.0.file_path\"])]\n",
    "false_path = [os.path.dirname(x) for x in list(false[\"dicom_images.0.file_path\"])]\n",
    "\n",
    "\n",
    "def find_fetta_centrale(path):\n",
    "    fetta_centrale = list()\n",
    "    no_fetta_centrale = list()\n",
    "    for i in path  :\n",
    "        try :\n",
    "            fetta_centrale.append(os.path.join(i,(os.listdir(i))[1]))\n",
    "        except :\n",
    "            no_fetta_centrale.append(i)\n",
    "    return fetta_centrale,no_fetta_centrale\n",
    "                                    \n",
    "fetta_centrale_true,no_fetta_centrale_true = find_fetta_centrale(true_path)\n",
    "fetta_centrale_false,no_fetta_centrale_false = find_fetta_centrale(false_path)"
   ]
  },
  {
   "cell_type": "code",
   "execution_count": null,
   "id": "0561257f-225b-4dc0-abc3-4762c947574a",
   "metadata": {
    "tags": []
   },
   "outputs": [],
   "source": []
  },
  {
   "cell_type": "code",
   "execution_count": 3,
   "id": "8f987d69-d41c-4651-865f-7479b53fd98a",
   "metadata": {
    "tags": []
   },
   "outputs": [
    {
     "data": {
      "text/plain": [
       "'1.3.46.670589.11.17524.5.0.8876.2012010206340442000'"
      ]
     },
     "execution_count": 3,
     "metadata": {},
     "output_type": "execute_result"
    }
   ],
   "source": [
    "dc = pydicom.dcmread(fetta_centrale_true[0])\n",
    "dc.SeriesInstanceUID                 "
   ]
  },
  {
   "cell_type": "markdown",
   "id": "781fdfe2-0a41-4c63-8346-418a99a32238",
   "metadata": {
    "tags": []
   },
   "source": [
    "Converto le immagini da dicom a png, ogni immagine è rinominato con il nome della serie"
   ]
  },
  {
   "cell_type": "code",
   "execution_count": null,
   "id": "d6bb4368-ba88-4b9f-97da-43e6d7ea6142",
   "metadata": {
    "tags": []
   },
   "outputs": [],
   "source": [
    "def dicom_png(path_image,path_save):\n",
    "    dc = pydicom.dcmread(path_image)\n",
    "    names  = os.path.join(path_save,(dc.SeriesInstanceUID + \".png\"))\n",
    "    plt.imsave(names, dc.pixel_array,cmap =\"gray\") \n",
    "path_save_true  = \"/mnt/databaseRICERCA_SDN/ONWAY/PACS/Classificazione/true/\"\n",
    "path_save_false = \"/mnt/databaseRICERCA_SDN/ONWAY/PACS/Classificazione/false/\"\n",
    "\n",
    "for path in tqdm(fetta_centrale_true) :\n",
    "    dicom_png(path,path_save_true)\n",
    "    \n",
    "for path in tqdm(fetta_centrale_false) :\n",
    "    dicom_png(path,path_save_false)"
   ]
  },
  {
   "cell_type": "markdown",
   "id": "ce6a3cee-226c-4479-a046-2d5e90091e0e",
   "metadata": {},
   "source": [
    "Separo le immagini, serve per provare ad usare i dicom direttamente senza andare ad effettuare la conversione in png"
   ]
  },
  {
   "cell_type": "code",
   "execution_count": 15,
   "id": "119527d0-872f-4bbe-8a84-4e09d167487b",
   "metadata": {
    "tags": []
   },
   "outputs": [
    {
     "name": "stderr",
     "output_type": "stream",
     "text": [
      "100%|████████████████████████████████████████████████████████████████████████████████████████████████████████████████████████| 758/758 [00:08<00:00, 85.51it/s]\n",
      "100%|████████████████████████████████████████████████████████████████████████████████████████████████████████████████████████| 124/124 [00:01<00:00, 74.46it/s]\n"
     ]
    }
   ],
   "source": [
    "def divisore(path_image,path_save) : \n",
    "    dc = pydicom.dcmread(path_image)\n",
    "    names  = os.path.join(path_save,(dc.SeriesInstanceUID + \".dcm\"))\n",
    "    shutil.copy(path_image, names)\n",
    "#path_save_true  = \"/mnt/databaseRICERCA_SDN/ONWAY/PACS/Classificazione/dcm/true/\"\n",
    "#path_save_false = \"/mnt/databaseRICERCA_SDN/ONWAY/PACS/Classificazione/dcm/false/\"\n",
    "path_save_true  = \"/home/marioverd/dcm/true/\"\n",
    "path_save_false = \"/home/marioverd/dcm/false/\"\n",
    "\n",
    "\n",
    "for path in tqdm(fetta_centrale_true) :\n",
    "    divisore(path,path_save_true)\n",
    "    \n",
    "for path in tqdm(fetta_centrale_false) :\n",
    "    divisore(path,path_save_false)\n",
    "    \n"
   ]
  },
  {
   "cell_type": "markdown",
   "id": "1cf90bf8-2f57-4ecb-8fce-81934ecfe379",
   "metadata": {
    "tags": []
   },
   "source": [
    "**Creo le immagini per il super-test** \n",
    "\n"
   ]
  },
  {
   "cell_type": "code",
   "execution_count": 9,
   "id": "cd330ad6-c7d2-4413-a4e4-f0f47bd8d638",
   "metadata": {
    "tags": []
   },
   "outputs": [
    {
     "name": "stderr",
     "output_type": "stream",
     "text": [
      "100%|███████████████████████████████████████████████████████████████████████████████████████████████████████████████████████| 758/758 [00:07<00:00, 100.38it/s]\n"
     ]
    }
   ],
   "source": [
    "ds = pd.read_csv(\"/mnt/databaseRICERCA_SDN/ONWAY/PACS/metadata/pre_retrieve_151_accnum_20230210.csv\")\n",
    "path_test =  [os.path.dirname(x) for x in list(ds[\"dicom_images.0.file_path\"])]\n",
    "                                    \n",
    "fetta_centrale_test,no_fetta_centrale_test = find_fetta_centrale(path_test)\n",
    "path_save_test = \"/home/marioverd/dcm/test/\"\n",
    "for path in tqdm(fetta_centrale_true) :\n",
    "    divisore(path,path_save_test)\n"
   ]
  },
  {
   "cell_type": "markdown",
   "id": "f73251f7-4d77-4947-a27f-9ed10a9c1bec",
   "metadata": {},
   "source": [
    "Converto le super serie \n"
   ]
  },
  {
   "cell_type": "code",
   "execution_count": 11,
   "id": "7101c45d-abca-40af-9f67-a169a3751e5a",
   "metadata": {
    "tags": []
   },
   "outputs": [
    {
     "name": "stderr",
     "output_type": "stream",
     "text": [
      "100%|████████████████████████████████████████████████████████████████████████████████████████████████████████████████████████| 758/758 [00:46<00:00, 16.45it/s]\n",
      "100%|████████████████████████████████████████████████████████████████████████████████████████████████████████████████████████| 124/124 [00:09<00:00, 13.11it/s]\n"
     ]
    }
   ],
   "source": [
    "ds = pd.read_csv(\"./risultati/prova_super_test.csv\")\n",
    "true = ds.loc[ds[\"predizione\"] == 1][\"path\"]\n",
    "false =ds.loc[ds[\"predizione\"] == 0][\"path\"]\n",
    "\n",
    "\n",
    "def dicom_png(path_image,path_save):\n",
    "    dc = pydicom.dcmread(path_image)\n",
    "    names  = os.path.join(path_save,(dc.SeriesInstanceUID + \".png\"))\n",
    "    plt.imsave(names, dc.pixel_array,cmap =\"gray\") \n",
    "path_save_true  = \"/mnt/databaseRICERCA_SDN/ONWAY/PACS/Classificazione/test_png/true/\"\n",
    "path_save_false = \"/mnt/databaseRICERCA_SDN/ONWAY/PACS/Classificazione/test_png/false/\"\n",
    "\n",
    "for path in tqdm(fetta_centrale_true) :\n",
    "    dicom_png(path,path_save_true)\n",
    "    \n",
    "for path in tqdm(fetta_centrale_false) :\n",
    "    dicom_png(path,path_save_false)"
   ]
  }
 ],
 "metadata": {
  "kernelspec": {
   "display_name": "Python 3 (ipykernel)",
   "language": "python",
   "name": "python3"
  },
  "language_info": {
   "codemirror_mode": {
    "name": "ipython",
    "version": 3
   },
   "file_extension": ".py",
   "mimetype": "text/x-python",
   "name": "python",
   "nbconvert_exporter": "python",
   "pygments_lexer": "ipython3",
   "version": "3.10.9"
  }
 },
 "nbformat": 4,
 "nbformat_minor": 5
}
