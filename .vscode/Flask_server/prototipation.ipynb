{
 "cells": [
  {
   "cell_type": "code",
   "execution_count": 9,
   "metadata": {},
   "outputs": [],
   "source": [
    "import os\n",
    "os.chdir(\"/home/jovyan/NAS/Progetti/7.Brain-Classification\")\n"
   ]
  },
  {
   "cell_type": "code",
   "execution_count": 11,
   "metadata": {},
   "outputs": [],
   "source": [
    "import torch\n",
    "import monai \n",
    "\n",
    "BrainNoBrainModel = monai.networks.nets.DenseNet121(spatial_dims=2, in_channels=1, out_channels=2,pretrained = True).load_state_dict(torch.load(\"BrainNoBrain/model_best.pth\"))\n"
   ]
  },
  {
   "cell_type": "code",
   "execution_count": null,
   "metadata": {},
   "outputs": [],
   "source": []
  },
  {
   "cell_type": "markdown",
   "metadata": {},
   "source": [
    "## Flask Server"
   ]
  },
  {
   "cell_type": "code",
   "execution_count": 1,
   "metadata": {},
   "outputs": [],
   "source": [
    "from flask import Flask,request, jsonify\n",
    "import json\n",
    "app = Flask(__name__)\n",
    "\n",
    "@app.route('/config', methods=['GET', 'POST'])\n",
    "\n",
    "\n",
    "def config():\n",
    "    with open('config.json') as f:\n",
    "        config_data = json.load(f)\n",
    "    if request.method == 'GET':\n",
    "        return jsonify(config_data)\n",
    "    elif request.method == 'POST':\n",
    "        new_config_data = request.get_json()\n",
    "\n",
    "        # Aggiorna il file di configurazione con i nuovi dati\n",
    "        with open('config.json', 'w') as f:\n",
    "            json.dump(new_config_data, f, indent=2)\n",
    "\n",
    "        return jsonify({'status': 'success', 'message': 'Configuration updated successfully'})"
   ]
  },
  {
   "cell_type": "code",
   "execution_count": null,
   "metadata": {},
   "outputs": [],
   "source": [
    "## TODO modificarlo in modo da tener conto che si invii direttamente il tensore già processato (batch) oppure che si inviino le immagini a cui vanno fatte le trasformazioni o un singolo file dicom\n",
    "def image_conversion(file):\n",
    "\n",
    "    raw = DicomBytesIO(file.read())\n",
    "    ds = dcmread(raw)\n",
    "\n",
    "    return ds.pixel_array\n"
   ]
  }
 ],
 "metadata": {
  "kernelspec": {
   "display_name": "Python [conda env:CHAIMELEON]",
   "language": "python",
   "name": "conda-env-CHAIMELEON-py"
  },
  "language_info": {
   "codemirror_mode": {
    "name": "ipython",
    "version": 3
   },
   "file_extension": ".py",
   "mimetype": "text/x-python",
   "name": "python",
   "nbconvert_exporter": "python",
   "pygments_lexer": "ipython3",
   "version": "3.10.13"
  }
 },
 "nbformat": 4,
 "nbformat_minor": 2
}
