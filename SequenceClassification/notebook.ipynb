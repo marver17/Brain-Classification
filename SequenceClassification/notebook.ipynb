{
 "cells": [
  {
   "cell_type": "code",
   "execution_count": null,
   "metadata": {},
   "outputs": [],
   "source": [
    "import pandas as pd\n",
    "import os"
   ]
  },
  {
   "cell_type": "code",
   "execution_count": null,
   "metadata": {},
   "outputs": [],
   "source": [
    "os.chdir(\"/home/jovyan/NAS/Progetti/7.Brain-Classification/SequenceClassification/\")"
   ]
  },
  {
   "cell_type": "code",
   "execution_count": null,
   "metadata": {},
   "outputs": [],
   "source": [
    "dataframe  = pd.read_csv(\"dataset.csv\",sep = \";\")"
   ]
  },
  {
   "cell_type": "code",
   "execution_count": null,
   "metadata": {},
   "outputs": [],
   "source": [
    "T1 = dataframe[\"T1\"].dropna().apply(lambda row: row.replace(\"/home/jovyan/Verdicchio/ONWAY_DATA//\",\"\"))\n",
    "T2 = dataframe[\"T2\"].dropna().apply(lambda row: row.replace(\"/home/jovyan/Verdicchio/ONWAY_DATA/\",\"\"))\n",
    "FLAIR = dataframe[\"FLAIR\"].dropna().apply(lambda row: row.replace(\"/home/jovyan/Verdicchio/ONWAY_DATA/\",\"\"))\n",
    "OTHER = dataframe[\"OTHER\"].dropna().apply(lambda row: row.replace(\"/home/jovyan/Verdicchio/ONWAY_DATA/\",\"\"))\n"
   ]
  },
  {
   "cell_type": "code",
   "execution_count": null,
   "metadata": {},
   "outputs": [],
   "source": [
    "\n",
    "T2"
   ]
  },
  {
   "cell_type": "code",
   "execution_count": null,
   "metadata": {},
   "outputs": [],
   "source": [
    "data_dir = \"/mnt/NAS_25/OnWay/SequenceClassification/\"\n",
    "T1_full = list()\n",
    "for img_type in T1 : \n",
    "    for x  in os.listdir(os.path.join(data_dir,img_type)) : \n",
    "        T1_full.append(os.path.join(img_type,x))\n",
    "\n",
    "OTHER_full = list()\n",
    "for img_type in OTHER : \n",
    "    for x  in os.listdir(os.path.join( \"/mnt/NAS_25/OnWay/SequenceClassification/\",img_type)) : \n",
    "        OTHER_full.append(os.path.join(img_type,x))\n",
    "T2_full = list()\n",
    "\n",
    "for img_type in T2 : \n",
    "    for x  in os.listdir(os.path.join( \"/mnt/NAS_25/OnWay/SequenceClassification/\",img_type)) : \n",
    "        T2_full.append(os.path.join(img_type,x))\n",
    "FLAIR_full = list()\n",
    "\n",
    "for img_type in FLAIR : \n",
    "    for x  in os.listdir(os.path.join( \"/mnt/NAS_25/OnWay/SequenceClassification/\",img_type)) : \n",
    "        FLAIR_full.append(os.path.join(img_type,x))\n"
   ]
  },
  {
   "cell_type": "code",
   "execution_count": null,
   "metadata": {},
   "outputs": [],
   "source": [
    "tuples_list = [(value, 'T1') for value in T1_full] + [(value, 'T2') for value in T2_full] + [(value, 'FLAIR') for value in FLAIR_full] + [(value, 'OTHER') for value in OTHER_full] "
   ]
  },
  {
   "cell_type": "code",
   "execution_count": null,
   "metadata": {},
   "outputs": [],
   "source": [
    "df = pd.DataFrame(tuples_list, columns=['Image', 'Label'])\n"
   ]
  },
  {
   "cell_type": "code",
   "execution_count": null,
   "metadata": {},
   "outputs": [],
   "source": [
    "df.to_csv(\"./dataset_new_full.csv\")"
   ]
  },
  {
   "cell_type": "markdown",
   "metadata": {},
   "source": [
    "---\n",
    "### Datamodule"
   ]
  },
  {
   "cell_type": "code",
   "execution_count": null,
   "metadata": {},
   "outputs": [],
   "source": [
    "import os\n",
    "from tkinter import SE \n",
    "os.chdir(\"/home/jovyan/NAS/Progetti/7.Brain-Classification/SequenceClassification/\")\n",
    "from LightningModule.DataModule import SequenceClassificationDataModule"
   ]
  },
  {
   "cell_type": "code",
   "execution_count": null,
   "metadata": {},
   "outputs": [],
   "source": [
    "data_dir = \"/mnt/NAS_25/OnWay/SequenceClassification/\"\n",
    "path_file = \"./dataset_new_full.csv\"\n",
    "data = SequenceClassificationDataModule(data_dir=data_dir, files_name=path_file)"
   ]
  },
  {
   "cell_type": "code",
   "execution_count": null,
   "metadata": {},
   "outputs": [],
   "source": [
    "data.check_dataloader()"
   ]
  },
  {
   "cell_type": "markdown",
   "metadata": {},
   "source": [
    "---\n"
   ]
  },
  {
   "cell_type": "code",
   "execution_count": 1,
   "metadata": {},
   "outputs": [],
   "source": [
    "import os\n",
    "os.chdir(\"/home/jovyan/NAS/Progetti/7.Brain-Classification/SequenceClassification\")"
   ]
  },
  {
   "cell_type": "code",
   "execution_count": 2,
   "metadata": {},
   "outputs": [],
   "source": [
    "from LightningModule.DataModule import SequenceClassificationDataModule\n",
    "#from LightningModule.ModelModule import SequenceClassification\n",
    "import torch\n",
    "from torch.nn import CrossEntropyLoss\n",
    "import numpy as np\n",
    "from lightning.pytorch.loggers import TensorBoardLogger,NeptuneLogger\n",
    "from sklearn.utils.class_weight import compute_class_weight\n",
    "import lightning as L\n",
    "import neptune"
   ]
  },
  {
   "cell_type": "code",
   "execution_count": 3,
   "metadata": {},
   "outputs": [],
   "source": [
    "from LightningModule.ModelModule import SequenceClassification\n"
   ]
  },
  {
   "cell_type": "code",
   "execution_count": 4,
   "metadata": {},
   "outputs": [],
   "source": [
    "data_dir = \"/mnt/NAS_25/OnWay/SequenceClassification/\"\n",
    "path_file = \"./dataset_new_full.csv\"\n",
    "data = SequenceClassificationDataModule(data_dir=data_dir, files_name=path_file)"
   ]
  },
  {
   "cell_type": "code",
   "execution_count": 5,
   "metadata": {},
   "outputs": [
    {
     "name": "stderr",
     "output_type": "stream",
     "text": [
      "Loading dataset: 100%|██████████| 1/1 [00:04<00:00,  4.24s/it]\n"
     ]
    },
    {
     "name": "stdout",
     "output_type": "stream",
     "text": [
      "torch.Size([1, 1, 256, 256]) tensor([0])\n"
     ]
    },
    {
     "data": {
      "image/png": "[encoded data removed]",
      "text/plain": [
       "<Figure size 1000x1000 with 1 Axes>"
      ]
     },
     "metadata": {},
     "output_type": "display_data"
    }
   ],
   "source": [
    "data.check_dataloader()"
   ]
  },
  {
   "cell_type": "code",
   "execution_count": 6,
   "metadata": {},
   "outputs": [],
   "source": [
    "y_train = data.get_label()\n",
    "class_weight = torch.tensor(compute_class_weight(\"balanced\",classes = np.unique(y_train),y=y_train )).type(torch.float)"
   ]
  },
  {
   "cell_type": "code",
   "execution_count": 7,
   "metadata": {},
   "outputs": [],
   "source": [
    "lr = 1e-5\n",
    "loss_function = CrossEntropyLoss(weight=class_weight)"
   ]
  },
  {
   "cell_type": "code",
   "execution_count": 8,
   "metadata": {},
   "outputs": [],
   "source": [
    "from typing import Any\n",
    "import lightning as L\n",
    "from lightning.pytorch.utilities.types import STEP_OUTPUT\n",
    "import monai\n",
    "from numpy import average\n",
    "import torch\n",
    "import torchmetrics\n",
    "\n",
    "\n",
    "class SequenceClassification(L.LightningModule) : \n",
    "\n",
    "    def __init__(self,loss_function,learning_rate) : \n",
    "        super().__init__()\n",
    "        self.__model = monai.networks.nets.DenseNet121(spatial_dims=2, in_channels=1, out_channels=4,pretrained = True)\n",
    "        self.learning_rate = learning_rate\n",
    "        self.loss_function = loss_function\n",
    "\n",
    "        metrics = torchmetrics.MetricCollection([\n",
    "            torchmetrics.Specificity(task=\"multiclass\",num_classes=4),\n",
    "            torchmetrics.Accuracy(task=\"multiclass\",num_classes=4),\n",
    "            torchmetrics.AUROC(task=\"multiclass\",num_classes=4),\n",
    "            torchmetrics.Recall(task=\"multiclass\",num_classes=4)\n",
    "            ])\n",
    "\n",
    "        self.__train_metrics = metrics.clone(prefix=\"train_\")\n",
    "        self.__val_metrics = metrics.clone(prefix=\"val_\")\n",
    "    \n",
    "    def forward(self,x) -> Any:\n",
    "        return self.__model(x)\n",
    "\n",
    "    def configure_optimizers(self):\n",
    "        optimizer = torch.optim.AdamW(self.parameters(),lr = self.learning_rate,weight_decay=0.01 )\n",
    "        scheduler = torch.optim.lr_scheduler.LinearLR(optimizer,start_factor=0.5,end_factor=1,last_epoch=-1)\n",
    "        return  [optimizer],[scheduler]\n",
    "    \n",
    "    def training_step(self, batch,batch_idx) -> STEP_OUTPUT:\n",
    "        X,y = batch[\"img\"],batch[\"label\"]\n",
    "        output = self.__model(X)\n",
    "        loss = self.loss_function(output,y)\n",
    "        self.log(\"Training Loss\",loss ,on_step = False, on_epoch = True, prog_bar  =True)\n",
    "        outputs = torch.stack([monai.transforms.Activations(softmax=True)(i) for i in monai.data.decollate_batch(output,detach = False)])\n",
    "        #y_one_hot = torch.nn.functional.one_hot(y.to(torch.int64), num_classes=4) \n",
    "        self.__train_metrics.update(torch.as_tensor(outputs), y)  ## non va bene la codifica one-hot #TODO indagare su questo punto\n",
    "        return loss\n",
    "    \n",
    "    def validation_step(self, batch,batch_idx) -> STEP_OUTPUT:\n",
    "        X,y = batch[\"img\"],batch[\"label\"]\n",
    "        output = self.__model(X)\n",
    "        loss = self.loss_function(output,y)\n",
    "        self.log(\"Validation Loss\", loss, on_step = False, on_epoch = True, prog_bar  =True)\n",
    "        outputs = torch.stack([monai.transforms.Activations(softmax=True)(i) for i in monai.data.decollate_batch(output,detach = False)])\n",
    "        #y_one_hot = torch.nn.functional.one_hot(y.to(torch.int64), num_classes=4) \n",
    "        self.__val_metrics.update(torch.as_tensor(outputs), y)\n",
    "    \n",
    "        return loss\n",
    "    \n",
    "    def on_train_epoch_end(self):\n",
    "        log_output = self.__train_metrics.compute()\n",
    "        self.log_dict(log_output)\n",
    "        self.__train_metrics.reset()\n",
    "        \n",
    "    def on_validation_epoch_end(self):\n",
    "        log_output = self.__val_metrics.compute()\n",
    "        self.log_dict(log_output)\n",
    "        self.__val_metrics.reset()"
   ]
  },
  {
   "cell_type": "code",
   "execution_count": 9,
   "metadata": {},
   "outputs": [],
   "source": [
    "model = SequenceClassification(loss_function,lr)"
   ]
  },
  {
   "cell_type": "code",
   "execution_count": 10,
   "metadata": {},
   "outputs": [
    {
     "name": "stdout",
     "output_type": "stream",
     "text": [
      "https://app.neptune.ai/marioverd/SequenceClassification/m/SEQCLAS-A/v/SEQCLAS-A-4\n"
     ]
    }
   ],
   "source": [
    "model_version = neptune.init_model_version(\n",
    "    model=\"SEQCLAS-A\",\n",
    "    project=\"marioverd/SequenceClassification\",\n",
    "    api_token=\"eyJhcGlfYWRkcmVzcyI6Imh0dHBzOi8vYXBwLm5lcHR1bmUuYWkiLCJhcGlfdXJsIjoiaHR0cHM6Ly9hcHAubmVwdHVuZS5haSIsImFwaV9rZXkiOiI5MjRhMWVmZC0xMzhiLTQ4YzAtYjE4ZS0zNTlkOGJjOTkzNWEifQ==\", # your credentials\n",
    ")"
   ]
  },
  {
   "cell_type": "code",
   "execution_count": 11,
   "metadata": {},
   "outputs": [],
   "source": [
    "model_version[\"model\"].upload(\"./LightningModule/ModelModule.py\")"
   ]
  },
  {
   "cell_type": "code",
   "execution_count": 12,
   "metadata": {},
   "outputs": [],
   "source": [
    "\n",
    "save_dir  = \"./log/BrainNoBrain\"\n",
    "model_name = model.__class__.__name__\n",
    "logger = TensorBoardLogger(save_dir = save_dir, name=model_name,flush_secs=10)\n",
    "neptune_logger = NeptuneLogger(\n",
    "    project=\"marioverd/SequenceClassification\",\n",
    "    api_key=\"eyJhcGlfYWRkcmVzcyI6Imh0dHBzOi8vYXBwLm5lcHR1bmUuYWkiLCJhcGlfdXJsIjoiaHR0cHM6Ly9hcHAubmVwdHVuZS5haSIsImFwaV9rZXkiOiI5MjRhMWVmZC0xMzhiLTQ4YzAtYjE4ZS0zNTlkOGJjOTkzNWEifQ==\",\n",
    "    log_model_checkpoints=False,\n",
    ")"
   ]
  },
  {
   "cell_type": "code",
   "execution_count": 16,
   "metadata": {},
   "outputs": [],
   "source": [
    "checkpoint_callback = L.pytorch.callbacks.ModelCheckpoint(monitor = \"val_MulticlassAUROC\",verbose=True,mode= \"max\",save_weights_only=True,auto_insert_metric_name = True)\n",
    "early_stop_callback = L.pytorch.callbacks.EarlyStopping(monitor=\"Validation Loss\",patience=10, verbose=True, mode=\"min\")\n"
   ]
  },
  {
   "cell_type": "code",
   "execution_count": 17,
   "metadata": {},
   "outputs": [
    {
     "name": "stderr",
     "output_type": "stream",
     "text": [
      "GPU available: True (cuda), used: True\n",
      "TPU available: False, using: 0 TPU cores\n",
      "IPU available: False, using: 0 IPUs\n",
      "HPU available: False, using: 0 HPUs\n"
     ]
    }
   ],
   "source": [
    "trainer = L.Trainer( logger = [logger,neptune_logger],\n",
    "                    max_epochs = 100,\n",
    "                    accelerator = \"cuda\",\n",
    "                    deterministic=True ,\n",
    "                    check_val_every_n_epoch = 1,\n",
    "                    log_every_n_steps =26,\n",
    "                    callbacks = [checkpoint_callback,early_stop_callback]\n",
    "                    )"
   ]
  },
  {
   "cell_type": "code",
   "execution_count": 18,
   "metadata": {},
   "outputs": [
    {
     "name": "stderr",
     "output_type": "stream",
     "text": [
      "Loading dataset: 100%|██████████| 4304/4304 [03:43<00:00, 19.24it/s]\n",
      "Loading dataset: 100%|██████████| 1076/1076 [00:54<00:00, 19.85it/s]\n",
      "LOCAL_RANK: 0 - CUDA_VISIBLE_DEVICES: [0]\n",
      "\n",
      "  | Name                                   | Type             | Params\n",
      "----------------------------------------------------------------------------\n",
      "0 | _SequenceClassification__model         | DenseNet121      | 7.0 M \n",
      "1 | loss_function                          | CrossEntropyLoss | 0     \n",
      "2 | _SequenceClassification__train_metrics | MetricCollection | 0     \n",
      "3 | _SequenceClassification__val_metrics   | MetricCollection | 0     \n",
      "----------------------------------------------------------------------------\n",
      "7.0 M     Trainable params\n",
      "0         Non-trainable params\n",
      "7.0 M     Total params\n",
      "27.807    Total estimated model params size (MB)\n"
     ]
    },
    {
     "name": "stdout",
     "output_type": "stream",
     "text": [
      "                                                                           \r"
     ]
    },
    {
     "name": "stderr",
     "output_type": "stream",
     "text": [
      "You are trying to use a metric in deterministic mode on GPU that uses `torch.cumsum`, which is currently not supported. The tensor will be copied to the CPU memory to compute it and then copied back to GPU. Expect some slowdowns.\n"
     ]
    },
    {
     "name": "stdout",
     "output_type": "stream",
     "text": [
      "Epoch 0: 100%|██████████| 68/68 [00:56<00:00,  1.20it/s, v_num=AS-7, Validation Loss=0.990, Training Loss=0.933]"
     ]
    },
    {
     "name": "stderr",
     "output_type": "stream",
     "text": [
      "Metric Validation Loss improved. New best score: 0.990\n",
      "Epoch 0, global step 68: 'val_MulticlassAUROC' reached 0.88698 (best 0.88698), saving model to './log/BrainNoBrain/SequenceClassification/version_5/checkpoints/epoch=0-step=68.ckpt' as top 1\n"
     ]
    },
    {
     "name": "stdout",
     "output_type": "stream",
     "text": [
      "Epoch 1: 100%|██████████| 68/68 [01:04<00:00,  1.05it/s, v_num=AS-7, Validation Loss=0.862, Training Loss=0.718]"
     ]
    },
    {
     "name": "stderr",
     "output_type": "stream",
     "text": [
      "Metric Validation Loss improved by 0.128 >= min_delta = 0.0. New best score: 0.862\n",
      "Epoch 1, global step 136: 'val_MulticlassAUROC' reached 0.91674 (best 0.91674), saving model to './log/BrainNoBrain/SequenceClassification/version_5/checkpoints/epoch=1-step=136.ckpt' as top 1\n"
     ]
    },
    {
     "name": "stdout",
     "output_type": "stream",
     "text": [
      "Epoch 2: 100%|██████████| 68/68 [01:05<00:00,  1.04it/s, v_num=AS-7, Validation Loss=0.762, Training Loss=0.554]"
     ]
    },
    {
     "name": "stderr",
     "output_type": "stream",
     "text": [
      "Metric Validation Loss improved by 0.100 >= min_delta = 0.0. New best score: 0.762\n",
      "Epoch 2, global step 204: 'val_MulticlassAUROC' reached 0.93448 (best 0.93448), saving model to './log/BrainNoBrain/SequenceClassification/version_5/checkpoints/epoch=2-step=204.ckpt' as top 1\n"
     ]
    },
    {
     "name": "stdout",
     "output_type": "stream",
     "text": [
      "Epoch 3: 100%|██████████| 68/68 [01:04<00:00,  1.06it/s, v_num=AS-7, Validation Loss=0.674, Training Loss=0.436]"
     ]
    },
    {
     "name": "stderr",
     "output_type": "stream",
     "text": [
      "Metric Validation Loss improved by 0.088 >= min_delta = 0.0. New best score: 0.674\n",
      "Epoch 3, global step 272: 'val_MulticlassAUROC' reached 0.94712 (best 0.94712), saving model to './log/BrainNoBrain/SequenceClassification/version_5/checkpoints/epoch=3-step=272.ckpt' as top 1\n"
     ]
    },
    {
     "name": "stdout",
     "output_type": "stream",
     "text": [
      "Epoch 4: 100%|██████████| 68/68 [01:04<00:00,  1.05it/s, v_num=AS-7, Validation Loss=0.612, Training Loss=0.348]"
     ]
    },
    {
     "name": "stderr",
     "output_type": "stream",
     "text": [
      "Metric Validation Loss improved by 0.062 >= min_delta = 0.0. New best score: 0.612\n",
      "Epoch 4, global step 340: 'val_MulticlassAUROC' reached 0.95428 (best 0.95428), saving model to './log/BrainNoBrain/SequenceClassification/version_5/checkpoints/epoch=4-step=340.ckpt' as top 1\n"
     ]
    },
    {
     "name": "stdout",
     "output_type": "stream",
     "text": [
      "Epoch 5: 100%|██████████| 68/68 [01:04<00:00,  1.05it/s, v_num=AS-7, Validation Loss=0.566, Training Loss=0.284]"
     ]
    },
    {
     "name": "stderr",
     "output_type": "stream",
     "text": [
      "Metric Validation Loss improved by 0.046 >= min_delta = 0.0. New best score: 0.566\n",
      "Epoch 5, global step 408: 'val_MulticlassAUROC' reached 0.95984 (best 0.95984), saving model to './log/BrainNoBrain/SequenceClassification/version_5/checkpoints/epoch=5-step=408.ckpt' as top 1\n"
     ]
    },
    {
     "name": "stdout",
     "output_type": "stream",
     "text": [
      "Epoch 6: 100%|██████████| 68/68 [01:05<00:00,  1.04it/s, v_num=AS-7, Validation Loss=0.537, Training Loss=0.232]"
     ]
    },
    {
     "name": "stderr",
     "output_type": "stream",
     "text": [
      "Metric Validation Loss improved by 0.029 >= min_delta = 0.0. New best score: 0.537\n",
      "Epoch 6, global step 476: 'val_MulticlassAUROC' reached 0.96377 (best 0.96377), saving model to './log/BrainNoBrain/SequenceClassification/version_5/checkpoints/epoch=6-step=476.ckpt' as top 1\n"
     ]
    },
    {
     "name": "stdout",
     "output_type": "stream",
     "text": [
      "Epoch 7: 100%|██████████| 68/68 [01:05<00:00,  1.04it/s, v_num=AS-7, Validation Loss=0.499, Training Loss=0.199]"
     ]
    },
    {
     "name": "stderr",
     "output_type": "stream",
     "text": [
      "Metric Validation Loss improved by 0.038 >= min_delta = 0.0. New best score: 0.499\n",
      "Epoch 7, global step 544: 'val_MulticlassAUROC' reached 0.96772 (best 0.96772), saving model to './log/BrainNoBrain/SequenceClassification/version_5/checkpoints/epoch=7-step=544.ckpt' as top 1\n"
     ]
    },
    {
     "name": "stdout",
     "output_type": "stream",
     "text": [
      "Epoch 8: 100%|██████████| 68/68 [01:10<00:00,  0.97it/s, v_num=AS-7, Validation Loss=0.469, Training Loss=0.170]"
     ]
    },
    {
     "name": "stderr",
     "output_type": "stream",
     "text": [
      "Metric Validation Loss improved by 0.030 >= min_delta = 0.0. New best score: 0.469\n",
      "Epoch 8, global step 612: 'val_MulticlassAUROC' reached 0.97046 (best 0.97046), saving model to './log/BrainNoBrain/SequenceClassification/version_5/checkpoints/epoch=8-step=612.ckpt' as top 1\n"
     ]
    },
    {
     "name": "stdout",
     "output_type": "stream",
     "text": [
      "Epoch 9: 100%|██████████| 68/68 [01:06<00:00,  1.02it/s, v_num=AS-7, Validation Loss=0.442, Training Loss=0.148]"
     ]
    },
    {
     "name": "stderr",
     "output_type": "stream",
     "text": [
      "Metric Validation Loss improved by 0.027 >= min_delta = 0.0. New best score: 0.442\n",
      "Epoch 9, global step 680: 'val_MulticlassAUROC' reached 0.97297 (best 0.97297), saving model to './log/BrainNoBrain/SequenceClassification/version_5/checkpoints/epoch=9-step=680.ckpt' as top 1\n"
     ]
    },
    {
     "name": "stdout",
     "output_type": "stream",
     "text": [
      "Epoch 10: 100%|██████████| 68/68 [01:06<00:00,  1.02it/s, v_num=AS-7, Validation Loss=0.443, Training Loss=0.129]"
     ]
    },
    {
     "name": "stderr",
     "output_type": "stream",
     "text": [
      "Epoch 10, global step 748: 'val_MulticlassAUROC' reached 0.97352 (best 0.97352), saving model to './log/BrainNoBrain/SequenceClassification/version_5/checkpoints/epoch=10-step=748.ckpt' as top 1\n"
     ]
    },
    {
     "name": "stdout",
     "output_type": "stream",
     "text": [
      "Epoch 11: 100%|██████████| 68/68 [01:06<00:00,  1.02it/s, v_num=AS-7, Validation Loss=0.430, Training Loss=0.114]"
     ]
    },
    {
     "name": "stderr",
     "output_type": "stream",
     "text": [
      "Metric Validation Loss improved by 0.012 >= min_delta = 0.0. New best score: 0.430\n",
      "Epoch 11, global step 816: 'val_MulticlassAUROC' reached 0.97418 (best 0.97418), saving model to './log/BrainNoBrain/SequenceClassification/version_5/checkpoints/epoch=11-step=816.ckpt' as top 1\n"
     ]
    },
    {
     "name": "stdout",
     "output_type": "stream",
     "text": [
      "Epoch 12: 100%|██████████| 68/68 [01:07<00:00,  1.00it/s, v_num=AS-7, Validation Loss=0.404, Training Loss=0.106]"
     ]
    },
    {
     "name": "stderr",
     "output_type": "stream",
     "text": [
      "Metric Validation Loss improved by 0.026 >= min_delta = 0.0. New best score: 0.404\n",
      "Epoch 12, global step 884: 'val_MulticlassAUROC' reached 0.97625 (best 0.97625), saving model to './log/BrainNoBrain/SequenceClassification/version_5/checkpoints/epoch=12-step=884.ckpt' as top 1\n"
     ]
    },
    {
     "name": "stdout",
     "output_type": "stream",
     "text": [
      "Epoch 13: 100%|██████████| 68/68 [01:03<00:00,  1.07it/s, v_num=AS-7, Validation Loss=0.411, Training Loss=0.0898]"
     ]
    },
    {
     "name": "stderr",
     "output_type": "stream",
     "text": [
      "Epoch 13, global step 952: 'val_MulticlassAUROC' reached 0.97669 (best 0.97669), saving model to './log/BrainNoBrain/SequenceClassification/version_5/checkpoints/epoch=13-step=952.ckpt' as top 1\n"
     ]
    },
    {
     "name": "stdout",
     "output_type": "stream",
     "text": [
      "Epoch 14: 100%|██████████| 68/68 [01:04<00:00,  1.06it/s, v_num=AS-7, Validation Loss=0.420, Training Loss=0.0823]"
     ]
    },
    {
     "name": "stderr",
     "output_type": "stream",
     "text": [
      "Epoch 14, global step 1020: 'val_MulticlassAUROC' was not in top 1\n"
     ]
    },
    {
     "name": "stdout",
     "output_type": "stream",
     "text": [
      "Epoch 15: 100%|██████████| 68/68 [01:04<00:00,  1.05it/s, v_num=AS-7, Validation Loss=0.398, Training Loss=0.0768]"
     ]
    },
    {
     "name": "stderr",
     "output_type": "stream",
     "text": [
      "Metric Validation Loss improved by 0.006 >= min_delta = 0.0. New best score: 0.398\n",
      "Epoch 15, global step 1088: 'val_MulticlassAUROC' reached 0.97777 (best 0.97777), saving model to './log/BrainNoBrain/SequenceClassification/version_5/checkpoints/epoch=15-step=1088.ckpt' as top 1\n"
     ]
    },
    {
     "name": "stdout",
     "output_type": "stream",
     "text": [
      "Epoch 16: 100%|██████████| 68/68 [01:07<00:00,  1.00it/s, v_num=AS-7, Validation Loss=0.403, Training Loss=0.0653]"
     ]
    },
    {
     "name": "stderr",
     "output_type": "stream",
     "text": [
      "Epoch 16, global step 1156: 'val_MulticlassAUROC' was not in top 1\n"
     ]
    },
    {
     "name": "stdout",
     "output_type": "stream",
     "text": [
      "Epoch 17: 100%|██████████| 68/68 [01:06<00:00,  1.03it/s, v_num=AS-7, Validation Loss=0.423, Training Loss=0.0624]"
     ]
    },
    {
     "name": "stderr",
     "output_type": "stream",
     "text": [
      "Epoch 17, global step 1224: 'val_MulticlassAUROC' was not in top 1\n"
     ]
    },
    {
     "name": "stdout",
     "output_type": "stream",
     "text": [
      "Epoch 18: 100%|██████████| 68/68 [01:06<00:00,  1.02it/s, v_num=AS-7, Validation Loss=0.387, Training Loss=0.0602]"
     ]
    },
    {
     "name": "stderr",
     "output_type": "stream",
     "text": [
      "Metric Validation Loss improved by 0.010 >= min_delta = 0.0. New best score: 0.387\n",
      "Epoch 18, global step 1292: 'val_MulticlassAUROC' was not in top 1\n"
     ]
    },
    {
     "name": "stdout",
     "output_type": "stream",
     "text": [
      "Epoch 19: 100%|██████████| 68/68 [01:04<00:00,  1.05it/s, v_num=AS-7, Validation Loss=0.401, Training Loss=0.050] "
     ]
    },
    {
     "name": "stderr",
     "output_type": "stream",
     "text": [
      "Epoch 19, global step 1360: 'val_MulticlassAUROC' was not in top 1\n"
     ]
    },
    {
     "name": "stdout",
     "output_type": "stream",
     "text": [
      "Epoch 20: 100%|██████████| 68/68 [01:05<00:00,  1.04it/s, v_num=AS-7, Validation Loss=0.381, Training Loss=0.0432]"
     ]
    },
    {
     "name": "stderr",
     "output_type": "stream",
     "text": [
      "Metric Validation Loss improved by 0.007 >= min_delta = 0.0. New best score: 0.381\n",
      "Epoch 20, global step 1428: 'val_MulticlassAUROC' was not in top 1\n"
     ]
    },
    {
     "name": "stdout",
     "output_type": "stream",
     "text": [
      "Epoch 21: 100%|██████████| 68/68 [01:04<00:00,  1.05it/s, v_num=AS-7, Validation Loss=0.379, Training Loss=0.0408]"
     ]
    },
    {
     "name": "stderr",
     "output_type": "stream",
     "text": [
      "Metric Validation Loss improved by 0.002 >= min_delta = 0.0. New best score: 0.379\n",
      "Epoch 21, global step 1496: 'val_MulticlassAUROC' was not in top 1\n"
     ]
    },
    {
     "name": "stdout",
     "output_type": "stream",
     "text": [
      "Epoch 22: 100%|██████████| 68/68 [01:05<00:00,  1.04it/s, v_num=AS-7, Validation Loss=0.390, Training Loss=0.0357]"
     ]
    },
    {
     "name": "stderr",
     "output_type": "stream",
     "text": [
      "Epoch 22, global step 1564: 'val_MulticlassAUROC' was not in top 1\n"
     ]
    },
    {
     "name": "stdout",
     "output_type": "stream",
     "text": [
      "Epoch 23: 100%|██████████| 68/68 [01:03<00:00,  1.06it/s, v_num=AS-7, Validation Loss=0.421, Training Loss=0.0293]"
     ]
    },
    {
     "name": "stderr",
     "output_type": "stream",
     "text": [
      "Epoch 23, global step 1632: 'val_MulticlassAUROC' was not in top 1\n"
     ]
    },
    {
     "name": "stdout",
     "output_type": "stream",
     "text": [
      "Epoch 24: 100%|██████████| 68/68 [01:04<00:00,  1.06it/s, v_num=AS-7, Validation Loss=0.397, Training Loss=0.0261]"
     ]
    },
    {
     "name": "stderr",
     "output_type": "stream",
     "text": [
      "Epoch 24, global step 1700: 'val_MulticlassAUROC' was not in top 1\n"
     ]
    },
    {
     "name": "stdout",
     "output_type": "stream",
     "text": [
      "Epoch 25: 100%|██████████| 68/68 [01:04<00:00,  1.05it/s, v_num=AS-7, Validation Loss=0.404, Training Loss=0.0265]"
     ]
    },
    {
     "name": "stderr",
     "output_type": "stream",
     "text": [
      "Epoch 25, global step 1768: 'val_MulticlassAUROC' was not in top 1\n"
     ]
    },
    {
     "name": "stdout",
     "output_type": "stream",
     "text": [
      "Epoch 26: 100%|██████████| 68/68 [01:03<00:00,  1.07it/s, v_num=AS-7, Validation Loss=0.374, Training Loss=0.021] "
     ]
    },
    {
     "name": "stderr",
     "output_type": "stream",
     "text": [
      "Metric Validation Loss improved by 0.005 >= min_delta = 0.0. New best score: 0.374\n",
      "Epoch 26, global step 1836: 'val_MulticlassAUROC' reached 0.97906 (best 0.97906), saving model to './log/BrainNoBrain/SequenceClassification/version_5/checkpoints/epoch=26-step=1836.ckpt' as top 1\n"
     ]
    },
    {
     "name": "stdout",
     "output_type": "stream",
     "text": [
      "Epoch 27: 100%|██████████| 68/68 [01:04<00:00,  1.06it/s, v_num=AS-7, Validation Loss=0.402, Training Loss=0.0192]"
     ]
    },
    {
     "name": "stderr",
     "output_type": "stream",
     "text": [
      "Epoch 27, global step 1904: 'val_MulticlassAUROC' was not in top 1\n"
     ]
    },
    {
     "name": "stdout",
     "output_type": "stream",
     "text": [
      "Epoch 28: 100%|██████████| 68/68 [01:03<00:00,  1.06it/s, v_num=AS-7, Validation Loss=0.391, Training Loss=0.0181]"
     ]
    },
    {
     "name": "stderr",
     "output_type": "stream",
     "text": [
      "Epoch 28, global step 1972: 'val_MulticlassAUROC' was not in top 1\n"
     ]
    },
    {
     "name": "stdout",
     "output_type": "stream",
     "text": [
      "Epoch 29: 100%|██████████| 68/68 [01:04<00:00,  1.06it/s, v_num=AS-7, Validation Loss=0.441, Training Loss=0.0179]"
     ]
    },
    {
     "name": "stderr",
     "output_type": "stream",
     "text": [
      "Epoch 29, global step 2040: 'val_MulticlassAUROC' was not in top 1\n"
     ]
    },
    {
     "name": "stdout",
     "output_type": "stream",
     "text": [
      "Epoch 30: 100%|██████████| 68/68 [01:03<00:00,  1.07it/s, v_num=AS-7, Validation Loss=0.420, Training Loss=0.0141]"
     ]
    },
    {
     "name": "stderr",
     "output_type": "stream",
     "text": [
      "Epoch 30, global step 2108: 'val_MulticlassAUROC' was not in top 1\n"
     ]
    },
    {
     "name": "stdout",
     "output_type": "stream",
     "text": [
      "Epoch 31: 100%|██████████| 68/68 [01:04<00:00,  1.06it/s, v_num=AS-7, Validation Loss=0.410, Training Loss=0.0129]"
     ]
    },
    {
     "name": "stderr",
     "output_type": "stream",
     "text": [
      "Epoch 31, global step 2176: 'val_MulticlassAUROC' was not in top 1\n"
     ]
    },
    {
     "name": "stdout",
     "output_type": "stream",
     "text": [
      "Epoch 32: 100%|██████████| 68/68 [01:03<00:00,  1.08it/s, v_num=AS-7, Validation Loss=0.433, Training Loss=0.0151]"
     ]
    },
    {
     "name": "stderr",
     "output_type": "stream",
     "text": [
      "Epoch 32, global step 2244: 'val_MulticlassAUROC' was not in top 1\n"
     ]
    },
    {
     "name": "stdout",
     "output_type": "stream",
     "text": [
      "Epoch 33: 100%|██████████| 68/68 [01:05<00:00,  1.04it/s, v_num=AS-7, Validation Loss=0.423, Training Loss=0.0144]"
     ]
    },
    {
     "name": "stderr",
     "output_type": "stream",
     "text": [
      "Epoch 33, global step 2312: 'val_MulticlassAUROC' was not in top 1\n"
     ]
    },
    {
     "name": "stdout",
     "output_type": "stream",
     "text": [
      "Epoch 34: 100%|██████████| 68/68 [01:03<00:00,  1.07it/s, v_num=AS-7, Validation Loss=0.410, Training Loss=0.010] "
     ]
    },
    {
     "name": "stderr",
     "output_type": "stream",
     "text": [
      "Epoch 34, global step 2380: 'val_MulticlassAUROC' was not in top 1\n"
     ]
    },
    {
     "name": "stdout",
     "output_type": "stream",
     "text": [
      "Epoch 35: 100%|██████████| 68/68 [01:03<00:00,  1.06it/s, v_num=AS-7, Validation Loss=0.403, Training Loss=0.00743]"
     ]
    },
    {
     "name": "stderr",
     "output_type": "stream",
     "text": [
      "Epoch 35, global step 2448: 'val_MulticlassAUROC' was not in top 1\n"
     ]
    },
    {
     "name": "stdout",
     "output_type": "stream",
     "text": [
      "Epoch 36: 100%|██████████| 68/68 [01:03<00:00,  1.07it/s, v_num=AS-7, Validation Loss=0.415, Training Loss=0.00849]"
     ]
    },
    {
     "name": "stderr",
     "output_type": "stream",
     "text": [
      "Monitored metric Validation Loss did not improve in the last 10 records. Best score: 0.374. Signaling Trainer to stop.\n",
      "Epoch 36, global step 2516: 'val_MulticlassAUROC' was not in top 1\n"
     ]
    },
    {
     "name": "stdout",
     "output_type": "stream",
     "text": [
      "Epoch 36: 100%|██████████| 68/68 [01:03<00:00,  1.07it/s, v_num=AS-7, Validation Loss=0.415, Training Loss=0.00849]\n"
     ]
    }
   ],
   "source": [
    "trainer.fit(model,data)"
   ]
  },
  {
   "cell_type": "markdown",
   "metadata": {},
   "source": []
  },
  {
   "cell_type": "code",
   "execution_count": null,
   "metadata": {},
   "outputs": [],
   "source": []
  }
 ],
 "metadata": {
  "kernelspec": {
   "display_name": "Python [conda env:CHAIMELEON]",
   "language": "python",
   "name": "conda-env-CHAIMELEON-py"
  },
  "language_info": {
   "codemirror_mode": {
    "name": "ipython",
    "version": 3
   },
   "file_extension": ".py",
   "mimetype": "text/x-python",
   "name": "python",
   "nbconvert_exporter": "python",
   "pygments_lexer": "ipython3",
   "version": "3.10.13"
  }
 },
 "nbformat": 4,
 "nbformat_minor": 2
}
